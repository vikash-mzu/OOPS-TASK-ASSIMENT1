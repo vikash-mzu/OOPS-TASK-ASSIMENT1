{
 "cells": [
  {
   "cell_type": "code",
   "execution_count": 1,
   "id": "cde513b5-6638-4130-996e-8bd25ca19890",
   "metadata": {},
   "outputs": [
    {
     "name": "stdout",
     "output_type": "stream",
     "text": [
      "Name: Car\n",
      "Max Speed: 200 km/h\n",
      "Average: 30 km/l\n"
     ]
    }
   ],
   "source": [
    "'''\n",
    "Q1, Create a vehicle class with an init method having instance variables as name_of_vehicle, max_speed\n",
    "and average_of_vehicle.\n",
    "'''\n",
    "class Vehicle:\n",
    "    def __init__(self, name_of_vehicle, max_speed, average_of_vehicle):\n",
    "        self.name_of_vehicle = name_of_vehicle\n",
    "        self.max_speed = max_speed\n",
    "        self.average_of_vehicle = average_of_vehicle\n",
    "\n",
    "# Example usage:\n",
    "car = Vehicle(\"Car\", 200, 30)\n",
    "print(f\"Name: {car.name_of_vehicle}\")\n",
    "print(f\"Max Speed: {car.max_speed} km/h\")\n",
    "print(f\"Average: {car.average_of_vehicle} km/l\")\n"
   ]
  },
  {
   "cell_type": "code",
   "execution_count": 3,
   "id": "afe4d4d6-ec05-41ca-9d9b-2265413bd525",
   "metadata": {},
   "outputs": [
    {
     "name": "stdout",
     "output_type": "stream",
     "text": [
      "The Sedan has a seating capacity of 5.\n"
     ]
    }
   ],
   "source": [
    "'''\n",
    "Q2. Create a child class car from the vehicle class created in Que 1, which will inherit the vehicle class.\n",
    "Create a method named seating_capacity which takes capacity as an argument and returns the name of\n",
    "the vehicle and its seating capacity.\n",
    "'''\n",
    "class Vehicle:\n",
    "    def __init__(self, name_of_vehicle, max_speed, average_of_vehicle):\n",
    "        self.name_of_vehicle = name_of_vehicle\n",
    "        self.max_speed = max_speed\n",
    "        self.average_of_vehicle = average_of_vehicle\n",
    "\n",
    "class Car(Vehicle):\n",
    "    def __init__(self, name_of_vehicle, max_speed, average_of_vehicle):\n",
    "        super().__init__(name_of_vehicle, max_speed, average_of_vehicle)\n",
    "\n",
    "    def seating_capacity(self, capacity):\n",
    "        return f\"The {self.name_of_vehicle} has a seating capacity of {capacity}.\"\n",
    "\n",
    "# Example usage:\n",
    "car = Car(\"Sedan\", 180, 15)\n",
    "print(car.seating_capacity(5))\n"
   ]
  },
  {
   "cell_type": "code",
   "execution_count": 7,
   "id": "c7032f45-d6b3-4e9b-954f-3c79438c6367",
   "metadata": {},
   "outputs": [
    {
     "name": "stdout",
     "output_type": "stream",
     "text": [
      "Car Name: Sedan\n",
      "Fuel Type: Petrol\n",
      "Color: Blue\n"
     ]
    }
   ],
   "source": [
    "'''\n",
    "Q3. What is multiple inheritance? Write a python code to demonstrate multiple inheritance.\n",
    "'''\n",
    "# Parent class 1\n",
    "class Vehicle:\n",
    "    def __init__(self, name_of_vehicle):\n",
    "        self.name_of_vehicle = name_of_vehicle\n",
    "\n",
    "    def show_info(self):\n",
    "        print(f\"Vehicle Name: {self.name_of_vehicle}\")\n",
    "\n",
    "\n",
    "# Parent class 2\n",
    "class Engine:\n",
    "    def __init__(self, fuel_type):\n",
    "        self.fuel_type = fuel_type\n",
    "\n",
    "    def show_info(self):\n",
    "        print(f\"Fuel Type: {self.fuel_type}\")\n",
    "\n",
    "\n",
    "# Child class inheriting from both Vehicle and Engine\n",
    "class Car(Vehicle, Engine):\n",
    "    def __init__(self, name_of_vehicle, fuel_type, color):\n",
    "        # Initialize both parent classes\n",
    "        Vehicle.__init__(self, name_of_vehicle)\n",
    "        Engine.__init__(self, fuel_type)\n",
    "        self.color = color\n",
    "\n",
    "    def show_info(self):\n",
    "        # Override show_info method to avoid ambiguity\n",
    "        print(f\"Car Name: {self.name_of_vehicle}\")\n",
    "        print(f\"Fuel Type: {self.fuel_type}\")\n",
    "        print(f\"Color: {self.color}\")\n",
    "\n",
    "\n",
    "# Creating an instance of Car\n",
    "my_car = Car(\"Sedan\", \"Petrol\", \"Blue\")\n",
    "\n",
    "# Accessing methods from parent classes\n",
    "my_car.show_info()"
   ]
  },
  {
   "cell_type": "code",
   "execution_count": 9,
   "id": "8c455400-b236-4329-b8f6-bf538f95a82e",
   "metadata": {},
   "outputs": [
    {
     "name": "stdout",
     "output_type": "stream",
     "text": [
      "Name: Alice\n",
      "Age: 30\n",
      "Updated Name: Bob\n",
      "Updated Age: 25\n"
     ]
    }
   ],
   "source": [
    "'''\n",
    "Q4. What are getter and setter in python? Create a class and create a getter and a setter method in this\n",
    "class.\n",
    "'''\n",
    "class Person:\n",
    "    def __init__(self, name, age):\n",
    "        self._name = name  # Private attribute with underscore convention\n",
    "        self._age = age    # Private attribute with underscore convention\n",
    "\n",
    "    # Getter method for name attribute\n",
    "    def get_name(self):\n",
    "        return self._name\n",
    "\n",
    "    # Setter method for name attribute\n",
    "    def set_name(self, name):\n",
    "        self._name = name\n",
    "\n",
    "    # Getter method for age attribute\n",
    "    def get_age(self):\n",
    "        return self._age\n",
    "\n",
    "    # Setter method for age attribute\n",
    "    def set_age(self, age):\n",
    "        if age > 0:\n",
    "            self._age = age\n",
    "        else:\n",
    "            print(\"Age should be greater than 0.\")\n",
    "\n",
    "# Creating an instance of Person\n",
    "person = Person(\"Alice\", 30)\n",
    "\n",
    "# Using getter methods\n",
    "print(f\"Name: {person.get_name()}\")\n",
    "print(f\"Age: {person.get_age()}\")\n",
    "\n",
    "# Using setter methods\n",
    "person.set_name(\"Bob\")\n",
    "person.set_age(25)\n",
    "\n",
    "# Printing updated information using getter methods\n",
    "print(f\"Updated Name: {person.get_name()}\")\n",
    "print(f\"Updated Age: {person.get_age()}\")\n"
   ]
  },
  {
   "cell_type": "code",
   "execution_count": null,
   "id": "4abde0b6-3444-40cb-af17-0f631a9bf5e3",
   "metadata": {},
   "outputs": [],
   "source": [
    "'''\n",
    "Q5.What is method overriding in python? Write a python code to demonstrate method overriding.\n",
    "'''\n",
    "# Parent class\n",
    "class Animal:\n",
    "    def make_sound(self):\n",
    "        print(\"Animal makes a generic sound.\")\n",
    "\n",
    "# Child class inheriting from Animal\n",
    "class Dog(Animal):\n",
    "    def make_sound(self):\n",
    "        print(\"Dog barks.\")\n",
    "\n",
    "# Child class inheriting from Animal\n",
    "class Cat(Animal):\n",
    "    def make_sound(self):\n",
    "        print(\"Cat meows.\")\n",
    "\n",
    "# Creating instances and calling overridden methods\n",
    "dog = Dog()\n",
    "cat = Cat()\n",
    "\n",
    "dog.make_sound("
   ]
  }
 ],
 "metadata": {
  "kernelspec": {
   "display_name": "Python 3 (ipykernel)",
   "language": "python",
   "name": "python3"
  },
  "language_info": {
   "codemirror_mode": {
    "name": "ipython",
    "version": 3
   },
   "file_extension": ".py",
   "mimetype": "text/x-python",
   "name": "python",
   "nbconvert_exporter": "python",
   "pygments_lexer": "ipython3",
   "version": "3.12.4"
  }
 },
 "nbformat": 4,
 "nbformat_minor": 5
}
